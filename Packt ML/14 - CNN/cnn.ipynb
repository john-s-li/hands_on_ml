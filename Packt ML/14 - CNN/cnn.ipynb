{
 "cells": [
  {
   "cell_type": "markdown",
   "metadata": {},
   "source": [
    "## Convolutional Neural Networks\n",
    "\n",
    "### Understanding CNNs\n",
    "Certain types of NNs, particularly CNNs, can automatically learn features from raw datasets that are most useful for the task at hand.\n",
    "\n",
    "It is common to consider early layers of CNN as feature extractors while later layers are usually fully connected (i.e. a MLP) to use the extracted features from the CNN to perform a regression of classification task."
   ]
  }
 ],
 "metadata": {
  "language_info": {
   "name": "python"
  },
  "orig_nbformat": 4
 },
 "nbformat": 4,
 "nbformat_minor": 2
}
