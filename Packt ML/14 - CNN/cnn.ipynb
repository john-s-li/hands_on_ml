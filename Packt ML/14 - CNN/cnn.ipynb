{
 "cells": [
  {
   "cell_type": "markdown",
   "metadata": {},
   "source": [
    "## Convolutional Neural Networks\n",
    "\n",
    "### Understanding CNNs\n",
    "Certain types of NNs, particularly CNNs, can automatically learn features from raw datasets that are most useful for the task at hand.\n",
    "\n",
    "It is common to consider early layers of CNN as feature extractors while later layers are usually fully connected (i.e. a MLP) to use the extracted features from the CNN to perform a regression of classification task."
   ]
  },
  {
   "cell_type": "markdown",
   "metadata": {},
   "source": [
    "### Loss Functions for Classification\n",
    "\n",
    "**Binary Cross Entropy** is the loss function for binary classification while **Categorical Cross-Entropy** is the loss function for multiclass classification.\n",
    "\n",
    "For Binary Classification: \n",
    "1. `BCELoss` : pass in class probabilities\n",
    "2. `BCEWithLogitsLoss` : pass in the logits\n",
    "\n",
    "For Multiclass Classification:\n",
    "1. `NLLLoss` (Negative Log Likelihood) : pass in log probabilites\n",
    "2. `CrossEntropyLoss` : preferred that logits are passed in due to numerical stability."
   ]
  },
  {
   "cell_type": "code",
   "execution_count": 6,
   "metadata": {},
   "outputs": [
    {
     "name": "stdout",
     "output_type": "stream",
     "text": [
      "Using device cuda\n"
     ]
    }
   ],
   "source": [
    "import torch\n",
    "import torch.nn as nn\n",
    "import platform as pl\n",
    "\n",
    "if pl.system().lower() == \"linux\":\n",
    "    device = torch.device(\"cuda\") if torch.cuda.is_available() else torch.device(\"cpu\")\n",
    "\n",
    "print(f\"Using device {device}\")"
   ]
  },
  {
   "cell_type": "code",
   "execution_count": 12,
   "metadata": {},
   "outputs": [
    {
     "name": "stdout",
     "output_type": "stream",
     "text": [
      "BCE (w/probas) = 0.3711\n",
      "BCE (w/logits) = 0.3711\n",
      "CCE (w/probas) = 0.5996\n",
      "CCE (w/logits) = 0.5996\n"
     ]
    }
   ],
   "source": [
    "# Binary Cross-entropy\n",
    "logits = torch.Tensor([0.8])\n",
    "target = torch.Tensor([1.0])\n",
    "probas = torch.sigmoid(logits)\n",
    "bce_loss_fn = nn.BCELoss()\n",
    "bce_logits_loss_fn = nn.BCEWithLogitsLoss()\n",
    "print(f\"BCE (w/probas) = {bce_loss_fn(probas, target):.4f}\")\n",
    "print(f\"BCE (w/logits) = {bce_logits_loss_fn(logits, target):.4f}\")\n",
    "\n",
    "# Categorical Cross-entropy\n",
    "logits = torch.Tensor([[1.5, 0.8, 2.1]])\n",
    "target = torch.Tensor([2]).type(torch.LongTensor) # torch will not accept a float tensor as categorical target\n",
    "                                                  # need to cast type Long\n",
    "probas = torch.log(torch.softmax(logits, dim=1))\n",
    "cce_loss_fn = nn.NLLLoss()\n",
    "cce_loss_logits_fn = nn.CrossEntropyLoss()\n",
    "print(f\"CCE (w/probas) = {cce_loss_fn(probas, target):.4f}\")\n",
    "print(f\"CCE (w/logits) = {cce_loss_logits_fn(logits, target):.4f}\")"
   ]
  }
 ],
 "metadata": {
  "interpreter": {
   "hash": "7c15b0dd616b9d947ea13c87fa269e05e8054758c0f7c261fec597f1be7e65f2"
  },
  "kernelspec": {
   "display_name": "Python 3.8.13 ('hands_on_ml')",
   "language": "python",
   "name": "python3"
  },
  "language_info": {
   "codemirror_mode": {
    "name": "ipython",
    "version": 3
   },
   "file_extension": ".py",
   "mimetype": "text/x-python",
   "name": "python",
   "nbconvert_exporter": "python",
   "pygments_lexer": "ipython3",
   "version": "3.8.13"
  },
  "orig_nbformat": 4
 },
 "nbformat": 4,
 "nbformat_minor": 2
}
