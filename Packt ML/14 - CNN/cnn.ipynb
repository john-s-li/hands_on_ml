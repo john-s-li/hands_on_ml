{
 "cells": [
  {
   "cell_type": "markdown",
   "metadata": {},
   "source": [
    "## Convolutional Neural Networks\n",
    "\n",
    "### Understanding CNNs\n",
    "Certain types of NNs, particularly CNNs, can automatically learn features from raw datasets that are most useful for the task at hand.\n",
    "\n",
    "It is common to consider early layers of CNN as feature extractors while later layers are usually fully connected (i.e. a MLP) to use the extracted features from the CNN to perform a regression of classification task."
   ]
  },
  {
   "cell_type": "markdown",
   "metadata": {},
   "source": [
    "### Loss Functions for Classification\n",
    "\n",
    "**Binary Cross Entropy** is the loss function for binary classification while **Categorical Cross-Entropy** is the loss function for multiclass classification.\n",
    "\n",
    "For Binary Classification: \n",
    "1. `BCELoss` : pass in class probabilities\n",
    "2. `BCEWithLogitsLoss` : pass in the logits\n",
    "\n",
    "For Multiclass Classification:\n",
    "1. `NLLLoss` (Negative Log Likelihood) : pass in log probabilites\n",
    "2. `CrossEntropyLoss` : preferred that logits are passed in due to numerical stability."
   ]
  },
  {
   "cell_type": "code",
   "execution_count": 1,
   "metadata": {},
   "outputs": [
    {
     "name": "stdout",
     "output_type": "stream",
     "text": [
      "Using device mps\n"
     ]
    }
   ],
   "source": [
    "import torch\n",
    "import torch.nn as nn\n",
    "import platform as pl\n",
    "\n",
    "use_gpu = True\n",
    "\n",
    "if pl.system().lower() == \"linux\" and use_gpu:\n",
    "    device = torch.device(\"cuda\") if torch.cuda.is_available() else torch.device(\"cpu\")\n",
    "elif pl.system().lower() == \"darwin\" and use_gpu:\n",
    "    device = torch.device(\"mps\") if torch.backends.mps.is_available() else torch.device(\"cpu\")\n",
    "else:\n",
    "    device = torch.device(\"cpu\")\n",
    "\n",
    "print(f\"Using device {device}\")"
   ]
  },
  {
   "cell_type": "code",
   "execution_count": 2,
   "metadata": {},
   "outputs": [
    {
     "name": "stdout",
     "output_type": "stream",
     "text": [
      "BCE (w/probas) = 0.3711\n",
      "BCE (w/logits) = 0.3711\n",
      "CCE (w/probas) = 0.5996\n",
      "CCE (w/logits) = 0.5996\n"
     ]
    }
   ],
   "source": [
    "# Binary Cross-entropy\n",
    "logits = torch.Tensor([0.8])\n",
    "target = torch.Tensor([1.0])\n",
    "probas = torch.sigmoid(logits)\n",
    "bce_loss_fn = nn.BCELoss()\n",
    "bce_logits_loss_fn = nn.BCEWithLogitsLoss()\n",
    "print(f\"BCE (w/probas) = {bce_loss_fn(probas, target):.4f}\")\n",
    "print(f\"BCE (w/logits) = {bce_logits_loss_fn(logits, target):.4f}\")\n",
    "\n",
    "# Categorical Cross-entropy\n",
    "logits = torch.Tensor([[1.5, 0.8, 2.1]])\n",
    "target = torch.Tensor([2]).type(torch.LongTensor) # torch will not accept a float tensor as categorical target\n",
    "                                                  # need to cast type Long\n",
    "probas = torch.log(torch.softmax(logits, dim=1))\n",
    "cce_loss_fn = nn.NLLLoss()\n",
    "cce_loss_logits_fn = nn.CrossEntropyLoss()\n",
    "print(f\"CCE (w/probas) = {cce_loss_fn(probas, target):.4f}\")\n",
    "print(f\"CCE (w/logits) = {cce_loss_logits_fn(logits, target):.4f}\")"
   ]
  },
  {
   "cell_type": "markdown",
   "metadata": {},
   "source": [
    "### Loading and Preprocessing Data"
   ]
  },
  {
   "cell_type": "code",
   "execution_count": 3,
   "metadata": {},
   "outputs": [],
   "source": [
    "import torchvision\n",
    "from torchvision import transforms"
   ]
  },
  {
   "cell_type": "code",
   "execution_count": 4,
   "metadata": {},
   "outputs": [],
   "source": [
    "image_path = \"./\"\n",
    "transform = transforms.Compose([transforms.ToTensor()])\n",
    "mnist_dataset = torchvision.datasets.MNIST(root=image_path, train=True, transform=transform, download=True)"
   ]
  },
  {
   "cell_type": "code",
   "execution_count": 5,
   "metadata": {},
   "outputs": [],
   "source": [
    "from torch.utils.data import Subset\n",
    "mnist_val = Subset(mnist_dataset, torch.arange(10000))\n",
    "mnist_train = Subset(mnist_dataset, torch.arange(10000, len(mnist_dataset)))\n",
    "mnist_test = torchvision.datasets.MNIST(root=image_path, train=False, transform=transform, download=False)"
   ]
  },
  {
   "cell_type": "code",
   "execution_count": 6,
   "metadata": {},
   "outputs": [],
   "source": [
    "from torch.utils.data import DataLoader\n",
    "batch_size = 64\n",
    "torch.manual_seed(42)\n",
    "train_loader = DataLoader(mnist_train, batch_size=batch_size, shuffle=True)\n",
    "val_loader = DataLoader(mnist_val, batch_size=batch_size, shuffle=False)"
   ]
  },
  {
   "cell_type": "markdown",
   "metadata": {},
   "source": [
    "It is important to note that PyTorch expects image batchs in *NCHW* format (num_batch_img x num_channel x height x width)."
   ]
  },
  {
   "cell_type": "code",
   "execution_count": 7,
   "metadata": {},
   "outputs": [],
   "source": [
    "class CNN(nn.Module):\n",
    "    def __init__(self, add_flatten=False):\n",
    "        super().__init__()\n",
    "        layers = []\n",
    "        # convolution layers\n",
    "        layers.append(nn.Conv2d(in_channels=1, out_channels=32, kernel_size=5, padding=2))\n",
    "        layers.append(nn.ReLU())\n",
    "        layers.append(nn.MaxPool2d(kernel_size=2))\n",
    "        layers.append(nn.Conv2d(in_channels=32, out_channels=64, kernel_size=5, padding=2))\n",
    "        layers.append(nn.ReLU())\n",
    "        layers.append(nn.MaxPool2d(kernel_size=2))\n",
    "\n",
    "        if add_flatten:\n",
    "            layers.append(nn.Flatten())\n",
    "\n",
    "        self.layers = nn.Sequential(*layers)\n",
    "\n",
    "    def add_fully_connected(self, input_size, output_size, hidden_sizes):\n",
    "        assert type(hidden_sizes) == list, \"Hidden Sizes not a list.\"  \n",
    "        self.layers.add_module(\"FC1\", nn.Linear(input_size, hidden_sizes[0]))\n",
    "        self.layers.add_module(\"ReLU\", nn.ReLU())\n",
    "        self.layers.add_module(\"Dropout\", nn.Dropout(p=0.5))\n",
    "        self.layers.add_module(\"FC2\", nn.Linear(hidden_sizes[-1], output_size))\n",
    "\n",
    "    def forward(self, x):\n",
    "        return self.layers(x)"
   ]
  },
  {
   "cell_type": "code",
   "execution_count": 8,
   "metadata": {},
   "outputs": [
    {
     "data": {
      "text/plain": [
       "torch.Size([4, 64, 7, 7])"
      ]
     },
     "execution_count": 8,
     "metadata": {},
     "output_type": "execute_result"
    }
   ],
   "source": [
    "# calculate size of the feature maps\n",
    "model = CNN(add_flatten=False)\n",
    "x = torch.ones([4, 1, 28, 28])\n",
    "model(x).shape"
   ]
  },
  {
   "cell_type": "code",
   "execution_count": 9,
   "metadata": {},
   "outputs": [
    {
     "data": {
      "text/plain": [
       "torch.Size([4, 3136])"
      ]
     },
     "execution_count": 9,
     "metadata": {},
     "output_type": "execute_result"
    }
   ],
   "source": [
    "# now add fully connected layers\n",
    "model = CNN(add_flatten=True)\n",
    "model(x).shape"
   ]
  },
  {
   "cell_type": "code",
   "execution_count": 10,
   "metadata": {},
   "outputs": [],
   "source": [
    "model.add_fully_connected(input_size=3136, output_size=10, hidden_sizes=[1024])"
   ]
  },
  {
   "cell_type": "code",
   "execution_count": 11,
   "metadata": {},
   "outputs": [],
   "source": [
    "loss_fn = nn.CrossEntropyLoss()\n",
    "optimizer = torch.optim.Adam(model.parameters(), lr=0.001)"
   ]
  },
  {
   "cell_type": "code",
   "execution_count": 12,
   "metadata": {},
   "outputs": [],
   "source": [
    "def train(model, train_loader, val_loader, loss_fn, optimizer, num_epochs=20, log_idx=1, verbose=False):\n",
    "    model.to(device)\n",
    "\n",
    "    train_losses = []\n",
    "    train_accuracies = []\n",
    "    val_accuracies = []\n",
    "\n",
    "    for e in range(num_epochs):\n",
    "        # train\n",
    "        train_acc, train_examples, train_loss = 0.0, 0, 0.0\n",
    "        model.train()\n",
    "        for features, labels in train_loader:\n",
    "            features, labels = features.to(device), labels.to(device)\n",
    "\n",
    "            logits = model(features)\n",
    "            probas = torch.sigmoid(logits)\n",
    "            preds  = torch.argmax(probas, dim=1)\n",
    "            loss = loss_fn(logits, labels)\n",
    "\n",
    "            train_acc += (preds == labels).sum().item()\n",
    "            train_loss += loss.item()\n",
    "            train_examples += features.shape[0]\n",
    "\n",
    "            optimizer.zero_grad()\n",
    "            loss.backward()\n",
    "            optimizer.step()\n",
    "\n",
    "        train_losses.append(train_loss/train_examples)\n",
    "        train_accuracies.append(train_acc/train_examples)\n",
    "\n",
    "        # validation\n",
    "        val_acc, val_examples = 0.0, 0\n",
    "        model.eval()\n",
    "        with torch.no_grad():\n",
    "            for features, labels in val_loader:\n",
    "                features, labels = features.to(device), labels.to(device)\n",
    "                logits = model(features)\n",
    "                probas = torch.sigmoid(logits)\n",
    "                preds  = torch.argmax(probas, dim=1)\n",
    "                val_acc += (preds == labels).sum().item()\n",
    "                val_examples += features.shape[0]\n",
    "\n",
    "            val_accuracies.append(val_acc/val_examples)\n",
    "\n",
    "        if verbose and e % log_idx == 0:\n",
    "            print(f\"Epoch {e}/{num_epochs}: Train Loss = {train_loss/train_examples:.4f} | \"\n",
    "                  f\"Train Acc = {train_acc/train_examples:.4f} | \"  \n",
    "                  f\"Val Acc = {val_acc/val_examples}\")\n",
    "\n",
    "    return train_losses, train_accuracies, val_accuracies"
   ]
  },
  {
   "cell_type": "code",
   "execution_count": 13,
   "metadata": {},
   "outputs": [
    {
     "name": "stdout",
     "output_type": "stream",
     "text": [
      "Epoch 0/10: Train Loss = 0.0026 | Train Acc = 0.9485 | Val Acc = 0.9815\n",
      "Epoch 1/10: Train Loss = 0.0008 | Train Acc = 0.9849 | Val Acc = 0.9834\n",
      "Epoch 2/10: Train Loss = 0.0005 | Train Acc = 0.9894 | Val Acc = 0.9889\n",
      "Epoch 3/10: Train Loss = 0.0004 | Train Acc = 0.9912 | Val Acc = 0.9892\n",
      "Epoch 4/10: Train Loss = 0.0003 | Train Acc = 0.9939 | Val Acc = 0.9878\n",
      "Epoch 5/10: Train Loss = 0.0003 | Train Acc = 0.9941 | Val Acc = 0.9893\n",
      "Epoch 6/10: Train Loss = 0.0002 | Train Acc = 0.9955 | Val Acc = 0.9902\n",
      "Epoch 7/10: Train Loss = 0.0002 | Train Acc = 0.9958 | Val Acc = 0.991\n",
      "Epoch 8/10: Train Loss = 0.0002 | Train Acc = 0.9961 | Val Acc = 0.9897\n",
      "Epoch 9/10: Train Loss = 0.0001 | Train Acc = 0.9972 | Val Acc = 0.9914\n"
     ]
    }
   ],
   "source": [
    "# see if a model exists already\n",
    "num_epochs = 10\n",
    "import os\n",
    "model_path = \"my_cnn.pt\"\n",
    "if os.path.exists(model_path):\n",
    "    print(f\"Found model file {model_path}\")\n",
    "    model = torch.load(model_path)\n",
    "else:\n",
    "    train_losses, train_accuracies, val_accuracies = train(model, train_loader, val_loader, loss_fn, optimizer, num_epochs=num_epochs, verbose=True)"
   ]
  },
  {
   "cell_type": "code",
   "execution_count": 14,
   "metadata": {},
   "outputs": [],
   "source": [
    "# save the model since it takes a while to train \n",
    "if not os.path.exists(model_path):\n",
    "    torch.save(model, model_path)"
   ]
  },
  {
   "cell_type": "markdown",
   "metadata": {},
   "source": [
    "### Evaluation of CNN"
   ]
  },
  {
   "cell_type": "code",
   "execution_count": 15,
   "metadata": {},
   "outputs": [],
   "source": [
    "%matplotlib inline\n",
    "import matplotlib.pyplot as plt"
   ]
  },
  {
   "cell_type": "code",
   "execution_count": 16,
   "metadata": {},
   "outputs": [
    {
     "data": {
      "image/png": "[encoded data removed]",
      "text/plain": [
       "<Figure size 1008x288 with 2 Axes>"
      ]
     },
     "metadata": {
      "needs_background": "light"
     },
     "output_type": "display_data"
    }
   ],
   "source": [
    "plt.figure(figsize=(14,4))\n",
    "plt.subplot(1,2,1)\n",
    "idx = [i for i in range(num_epochs)]\n",
    "plt.plot(idx, train_losses, \"-o\")\n",
    "plt.title(\"Cross Entropy Loss of CNN\")\n",
    "plt.ylabel(\"CE Loss\")\n",
    "plt.xlabel(\"Epoch\")\n",
    "plt.grid()\n",
    "plt.subplot(1,2,2)\n",
    "plt.plot(idx, train_accuracies, \"-o\", label=\"Training Accuracy\")\n",
    "plt.plot(idx, val_accuracies, \"->\", label=\"Validation Accruacy\")\n",
    "plt.title(\"Accuracy vs Epochs\")\n",
    "plt.xlabel(\"Epochs\")\n",
    "plt.ylabel(\"Accuracy\")\n",
    "plt.grid()\n",
    "plt.legend()\n",
    "plt.show()\n"
   ]
  },
  {
   "cell_type": "code",
   "execution_count": 17,
   "metadata": {},
   "outputs": [
    {
     "name": "stdout",
     "output_type": "stream",
     "text": [
      "Test accuracy = 99.2500%.\n"
     ]
    }
   ],
   "source": [
    "# evaluate the test set\n",
    "model.eval()\n",
    "model.to(torch.device(\"cpu\")) # no MPS support for inference time as of yet\n",
    "with torch.no_grad():\n",
    "    pred = model(mnist_test.data.unsqueeze(1) / 255.0)\n",
    "    acc = (torch.argmax(pred, dim=1) == mnist_test.targets).sum().float() / mnist_test.targets.shape[0]\n",
    "    print(f\"Test accuracy = {acc*100:.4f}%.\")\n"
   ]
  },
  {
   "cell_type": "markdown",
   "metadata": {},
   "source": [
    "### Smile Classification from Face Images Using CNN"
   ]
  },
  {
   "cell_type": "code",
   "execution_count": 19,
   "metadata": {},
   "outputs": [
    {
     "data": {
      "application/vnd.jupyter.widget-view+json": {
       "model_id": "b0e436da30cc49d8b54b283587de8b41",
       "version_major": 2,
       "version_minor": 0
      },
      "text/plain": [
       "0it [00:00, ?it/s]"
      ]
     },
     "metadata": {},
     "output_type": "display_data"
    },
    {
     "data": {
      "application/vnd.jupyter.widget-view+json": {
       "model_id": "7e1e7f55e024422dade62ddc8b9e039e",
       "version_major": 2,
       "version_minor": 0
      },
      "text/plain": [
       "0it [00:00, ?it/s]"
      ]
     },
     "metadata": {},
     "output_type": "display_data"
    },
    {
     "data": {
      "application/vnd.jupyter.widget-view+json": {
       "model_id": "017cc97e7806448ca856cf7e042c983a",
       "version_major": 2,
       "version_minor": 0
      },
      "text/plain": [
       "0it [00:00, ?it/s]"
      ]
     },
     "metadata": {},
     "output_type": "display_data"
    },
    {
     "data": {
      "application/vnd.jupyter.widget-view+json": {
       "model_id": "b27e448b34164f6c8d784d064854495c",
       "version_major": 2,
       "version_minor": 0
      },
      "text/plain": [
       "0it [00:00, ?it/s]"
      ]
     },
     "metadata": {},
     "output_type": "display_data"
    },
    {
     "data": {
      "application/vnd.jupyter.widget-view+json": {
       "model_id": "66ad0245197341299f5d2eb97dd04beb",
       "version_major": 2,
       "version_minor": 0
      },
      "text/plain": [
       "0it [00:00, ?it/s]"
      ]
     },
     "metadata": {},
     "output_type": "display_data"
    },
    {
     "data": {
      "application/vnd.jupyter.widget-view+json": {
       "model_id": "d08b79041030499fa517d0f2fd1a8f88",
       "version_major": 2,
       "version_minor": 0
      },
      "text/plain": [
       "0it [00:00, ?it/s]"
      ]
     },
     "metadata": {},
     "output_type": "display_data"
    },
    {
     "ename": "BadZipFile",
     "evalue": "File is not a zip file",
     "output_type": "error",
     "traceback": [
      "\u001b[0;31m---------------------------------------------------------------------------\u001b[0m",
      "\u001b[0;31mBadZipFile\u001b[0m                                Traceback (most recent call last)",
      "\u001b[1;32m/Users/johnathon_s_li/Desktop/Coding/Hands On ML/Packt ML/14 - CNN/cnn.ipynb Cell 24'\u001b[0m in \u001b[0;36m<cell line: 2>\u001b[0;34m()\u001b[0m\n\u001b[1;32m      <a href='vscode-notebook-cell:/Users/johnathon_s_li/Desktop/Coding/Hands%20On%20ML/Packt%20ML/14%20-%20CNN/cnn.ipynb#ch0000027?line=0'>1</a>\u001b[0m image_path \u001b[39m=\u001b[39m \u001b[39m\"\u001b[39m\u001b[39m./\u001b[39m\u001b[39m\"\u001b[39m\n\u001b[0;32m----> <a href='vscode-notebook-cell:/Users/johnathon_s_li/Desktop/Coding/Hands%20On%20ML/Packt%20ML/14%20-%20CNN/cnn.ipynb#ch0000027?line=1'>2</a>\u001b[0m celeb_train_dataset \u001b[39m=\u001b[39m torchvision\u001b[39m.\u001b[39;49mdatasets\u001b[39m.\u001b[39;49mCelebA(image_path, split\u001b[39m=\u001b[39;49m\u001b[39m\"\u001b[39;49m\u001b[39mtrain\u001b[39;49m\u001b[39m\"\u001b[39;49m, target_type\u001b[39m=\u001b[39;49m\u001b[39m\"\u001b[39;49m\u001b[39mattr\u001b[39;49m\u001b[39m\"\u001b[39;49m, download\u001b[39m=\u001b[39;49m\u001b[39mTrue\u001b[39;49;00m)\n\u001b[1;32m      <a href='vscode-notebook-cell:/Users/johnathon_s_li/Desktop/Coding/Hands%20On%20ML/Packt%20ML/14%20-%20CNN/cnn.ipynb#ch0000027?line=2'>3</a>\u001b[0m celeb_val_dataset \u001b[39m=\u001b[39m torchvision\u001b[39m.\u001b[39mdatasets\u001b[39m.\u001b[39mCelebA(image_path, split\u001b[39m=\u001b[39m\u001b[39m\"\u001b[39m\u001b[39mvalid\u001b[39m\u001b[39m\"\u001b[39m, target_type\u001b[39m=\u001b[39m\u001b[39m\"\u001b[39m\u001b[39mattr\u001b[39m\u001b[39m\"\u001b[39m, download\u001b[39m=\u001b[39m\u001b[39mTrue\u001b[39;00m)\n\u001b[1;32m      <a href='vscode-notebook-cell:/Users/johnathon_s_li/Desktop/Coding/Hands%20On%20ML/Packt%20ML/14%20-%20CNN/cnn.ipynb#ch0000027?line=3'>4</a>\u001b[0m celeb_test_dataset \u001b[39m=\u001b[39m torchvision\u001b[39m.\u001b[39mdatasets\u001b[39m.\u001b[39mCelebA(image_path, split\u001b[39m=\u001b[39m\u001b[39m\"\u001b[39m\u001b[39mtest\u001b[39m\u001b[39m\"\u001b[39m, target_type\u001b[39m=\u001b[39m\u001b[39m\"\u001b[39m\u001b[39mattr\u001b[39m\u001b[39m\"\u001b[39m, download\u001b[39m=\u001b[39m\u001b[39mTrue\u001b[39;00m)\n",
      "File \u001b[0;32m/opt/homebrew/Caskroom/miniforge/base/envs/machine_learning/lib/python3.8/site-packages/torchvision/datasets/celeba.py:80\u001b[0m, in \u001b[0;36mCelebA.__init__\u001b[0;34m(self, root, split, target_type, transform, target_transform, download)\u001b[0m\n\u001b[1;32m     77\u001b[0m     \u001b[39mraise\u001b[39;00m \u001b[39mRuntimeError\u001b[39;00m(\u001b[39m\"\u001b[39m\u001b[39mtarget_transform is specified but target_type is empty\u001b[39m\u001b[39m\"\u001b[39m)\n\u001b[1;32m     79\u001b[0m \u001b[39mif\u001b[39;00m download:\n\u001b[0;32m---> 80\u001b[0m     \u001b[39mself\u001b[39;49m\u001b[39m.\u001b[39;49mdownload()\n\u001b[1;32m     82\u001b[0m \u001b[39mif\u001b[39;00m \u001b[39mnot\u001b[39;00m \u001b[39mself\u001b[39m\u001b[39m.\u001b[39m_check_integrity():\n\u001b[1;32m     83\u001b[0m     \u001b[39mraise\u001b[39;00m \u001b[39mRuntimeError\u001b[39;00m(\u001b[39m\"\u001b[39m\u001b[39mDataset not found or corrupted. You can use download=True to download it\u001b[39m\u001b[39m\"\u001b[39m)\n",
      "File \u001b[0;32m/opt/homebrew/Caskroom/miniforge/base/envs/machine_learning/lib/python3.8/site-packages/torchvision/datasets/celeba.py:152\u001b[0m, in \u001b[0;36mCelebA.download\u001b[0;34m(self)\u001b[0m\n\u001b[1;32m    149\u001b[0m \u001b[39mfor\u001b[39;00m (file_id, md5, filename) \u001b[39min\u001b[39;00m \u001b[39mself\u001b[39m\u001b[39m.\u001b[39mfile_list:\n\u001b[1;32m    150\u001b[0m     download_file_from_google_drive(file_id, os\u001b[39m.\u001b[39mpath\u001b[39m.\u001b[39mjoin(\u001b[39mself\u001b[39m\u001b[39m.\u001b[39mroot, \u001b[39mself\u001b[39m\u001b[39m.\u001b[39mbase_folder), filename, md5)\n\u001b[0;32m--> 152\u001b[0m extract_archive(os\u001b[39m.\u001b[39;49mpath\u001b[39m.\u001b[39;49mjoin(\u001b[39mself\u001b[39;49m\u001b[39m.\u001b[39;49mroot, \u001b[39mself\u001b[39;49m\u001b[39m.\u001b[39;49mbase_folder, \u001b[39m\"\u001b[39;49m\u001b[39mimg_align_celeba.zip\u001b[39;49m\u001b[39m\"\u001b[39;49m))\n",
      "File \u001b[0;32m/opt/homebrew/Caskroom/miniforge/base/envs/machine_learning/lib/python3.8/site-packages/torchvision/datasets/utils.py:409\u001b[0m, in \u001b[0;36mextract_archive\u001b[0;34m(from_path, to_path, remove_finished)\u001b[0m\n\u001b[1;32m    406\u001b[0m \u001b[39m# We don't need to check for a missing key here, since this was already done in _detect_file_type()\u001b[39;00m\n\u001b[1;32m    407\u001b[0m extractor \u001b[39m=\u001b[39m _ARCHIVE_EXTRACTORS[archive_type]\n\u001b[0;32m--> 409\u001b[0m extractor(from_path, to_path, compression)\n\u001b[1;32m    410\u001b[0m \u001b[39mif\u001b[39;00m remove_finished:\n\u001b[1;32m    411\u001b[0m     os\u001b[39m.\u001b[39mremove(from_path)\n",
      "File \u001b[0;32m/opt/homebrew/Caskroom/miniforge/base/envs/machine_learning/lib/python3.8/site-packages/torchvision/datasets/utils.py:283\u001b[0m, in \u001b[0;36m_extract_zip\u001b[0;34m(from_path, to_path, compression)\u001b[0m\n\u001b[1;32m    282\u001b[0m \u001b[39mdef\u001b[39;00m \u001b[39m_extract_zip\u001b[39m(from_path: \u001b[39mstr\u001b[39m, to_path: \u001b[39mstr\u001b[39m, compression: Optional[\u001b[39mstr\u001b[39m]) \u001b[39m-\u001b[39m\u001b[39m>\u001b[39m \u001b[39mNone\u001b[39;00m:\n\u001b[0;32m--> 283\u001b[0m     \u001b[39mwith\u001b[39;00m zipfile\u001b[39m.\u001b[39;49mZipFile(\n\u001b[1;32m    284\u001b[0m         from_path, \u001b[39m\"\u001b[39;49m\u001b[39mr\u001b[39;49m\u001b[39m\"\u001b[39;49m, compression\u001b[39m=\u001b[39;49m_ZIP_COMPRESSION_MAP[compression] \u001b[39mif\u001b[39;49;00m compression \u001b[39melse\u001b[39;49;00m zipfile\u001b[39m.\u001b[39;49mZIP_STORED\n\u001b[1;32m    285\u001b[0m     ) \u001b[39mas\u001b[39;00m \u001b[39mzip\u001b[39m:\n\u001b[1;32m    286\u001b[0m         \u001b[39mzip\u001b[39m\u001b[39m.\u001b[39mextractall(to_path)\n",
      "File \u001b[0;32m/opt/homebrew/Caskroom/miniforge/base/envs/machine_learning/lib/python3.8/zipfile.py:1269\u001b[0m, in \u001b[0;36mZipFile.__init__\u001b[0;34m(self, file, mode, compression, allowZip64, compresslevel, strict_timestamps)\u001b[0m\n\u001b[1;32m   1267\u001b[0m \u001b[39mtry\u001b[39;00m:\n\u001b[1;32m   1268\u001b[0m     \u001b[39mif\u001b[39;00m mode \u001b[39m==\u001b[39m \u001b[39m'\u001b[39m\u001b[39mr\u001b[39m\u001b[39m'\u001b[39m:\n\u001b[0;32m-> 1269\u001b[0m         \u001b[39mself\u001b[39;49m\u001b[39m.\u001b[39;49m_RealGetContents()\n\u001b[1;32m   1270\u001b[0m     \u001b[39melif\u001b[39;00m mode \u001b[39min\u001b[39;00m (\u001b[39m'\u001b[39m\u001b[39mw\u001b[39m\u001b[39m'\u001b[39m, \u001b[39m'\u001b[39m\u001b[39mx\u001b[39m\u001b[39m'\u001b[39m):\n\u001b[1;32m   1271\u001b[0m         \u001b[39m# set the modified flag so central directory gets written\u001b[39;00m\n\u001b[1;32m   1272\u001b[0m         \u001b[39m# even if no files are added to the archive\u001b[39;00m\n\u001b[1;32m   1273\u001b[0m         \u001b[39mself\u001b[39m\u001b[39m.\u001b[39m_didModify \u001b[39m=\u001b[39m \u001b[39mTrue\u001b[39;00m\n",
      "File \u001b[0;32m/opt/homebrew/Caskroom/miniforge/base/envs/machine_learning/lib/python3.8/zipfile.py:1336\u001b[0m, in \u001b[0;36mZipFile._RealGetContents\u001b[0;34m(self)\u001b[0m\n\u001b[1;32m   1334\u001b[0m     \u001b[39mraise\u001b[39;00m BadZipFile(\u001b[39m\"\u001b[39m\u001b[39mFile is not a zip file\u001b[39m\u001b[39m\"\u001b[39m)\n\u001b[1;32m   1335\u001b[0m \u001b[39mif\u001b[39;00m \u001b[39mnot\u001b[39;00m endrec:\n\u001b[0;32m-> 1336\u001b[0m     \u001b[39mraise\u001b[39;00m BadZipFile(\u001b[39m\"\u001b[39m\u001b[39mFile is not a zip file\u001b[39m\u001b[39m\"\u001b[39m)\n\u001b[1;32m   1337\u001b[0m \u001b[39mif\u001b[39;00m \u001b[39mself\u001b[39m\u001b[39m.\u001b[39mdebug \u001b[39m>\u001b[39m \u001b[39m1\u001b[39m:\n\u001b[1;32m   1338\u001b[0m     \u001b[39mprint\u001b[39m(endrec)\n",
      "\u001b[0;31mBadZipFile\u001b[0m: File is not a zip file"
     ]
    }
   ],
   "source": [
    "image_path = \"./datasets/\"\n",
    "celeb_train_dataset = torchvision.datasets.CelebA(image_path, split=\"train\", target_type=\"attr\", download=False)\n",
    "celeb_val_dataset = torchvision.datasets.CelebA(image_path, split=\"valid\", target_type=\"attr\", download=False)\n",
    "celeb_test_dataset = torchvision.datasets.CelebA(image_path, split=\"test\", target_type=\"attr\", download=False)\n",
    "print(f\"Train set instances: {len(celeb_train_dataset)}\")\n",
    "print(f\"Validation set instances: {len(celeb_val_dataset)}\")\n",
    "print(f\"Test set instances: {len(celeb_test_dataset)}\")"
   ]
  }
 ],
 "metadata": {
  "kernelspec": {
   "display_name": "Python 3.8.10 ('machine_learning')",
   "language": "python",
   "name": "python3"
  },
  "language_info": {
   "codemirror_mode": {
    "name": "ipython",
    "version": 3
   },
   "file_extension": ".py",
   "mimetype": "text/x-python",
   "name": "python",
   "nbconvert_exporter": "python",
   "pygments_lexer": "ipython3",
   "version": "3.8.10"
  },
  "orig_nbformat": 4,
  "vscode": {
   "interpreter": {
    "hash": "9ec1ccfe0d98e93cd3ff8953cac9364163407fba13736c55f90cf8afe7e68d85"
   }
  }
 },
 "nbformat": 4,
 "nbformat_minor": 2
}
