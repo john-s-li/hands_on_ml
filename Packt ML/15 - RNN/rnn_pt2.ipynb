{
 "cells": [
  {
   "cell_type": "markdown",
   "metadata": {},
   "source": [
    "# RNN Project 2: Character-level Language Modeling\n",
    "\n",
    "### Creating the Dataset"
   ]
  },
  {
   "cell_type": "code",
   "execution_count": 1,
   "metadata": {},
   "outputs": [
    {
     "name": "stdout",
     "output_type": "stream",
     "text": [
      "Total length of text: 1130711\n",
      "Unique characters: 85\n"
     ]
    }
   ],
   "source": [
    "import numpy as np\n",
    "\n",
    "with open(\"1268-0.txt\", \"r\", encoding=\"utf8\") as fp:\n",
    "    text = fp.read()\n",
    "    start_idx = text.find(\"THE MYSTERIOUS ISLAND\")\n",
    "    end_idx = text.find(\"End of the Project Gutenberg\")\n",
    "    # remove prologue and end jibber jabber\n",
    "    text = text[start_idx:end_idx]\n",
    "    # create a set of unique characters\n",
    "    char_set = set(text)\n",
    "    print(f\"Total length of text: {len(text)}\")\n",
    "    print(f\"Unique characters: {len(char_set)}\")"
   ]
  },
  {
   "cell_type": "markdown",
   "metadata": {},
   "source": [
    "Most NN and RNN libraries cannot deal with string inputs, so we will convert text into a numeric format."
   ]
  },
  {
   "cell_type": "code",
   "execution_count": 2,
   "metadata": {},
   "outputs": [
    {
     "name": "stdout",
     "output_type": "stream",
     "text": [
      "Char array: ['\\n' ' ' '!' '\"' '$' '%' '&' \"'\" '(' ')' '*' ',' '-' '.' '/']\n",
      "Text encoded shape: (1130711,)\n",
      "THE MYSTERIOUS  ==Encoding==> [48 36 33  1 41 53 47 48 33 46 37 43 49 47  1]\n"
     ]
    }
   ],
   "source": [
    "chars_sorted = sorted(char_set)\n",
    "char2int = {ch:i for i,ch in enumerate(chars_sorted)} # char to int mapping\n",
    "\n",
    "# reverse mapping from int to char (more efficient)\n",
    "char_array = np.array(chars_sorted)\n",
    "print(f\"Char array: {char_array[:15]}\")\n",
    "text_encoded = np.array([char2int[ch] for ch in text], dtype=np.int32)\n",
    "\n",
    "print(f\"Text encoded shape: {text_encoded.shape}\")\n",
    "print(f\"{text[:15]} ==Encoding==> {text_encoded[:15]}\")"
   ]
  },
  {
   "cell_type": "code",
   "execution_count": 3,
   "metadata": {},
   "outputs": [
    {
     "name": "stdout",
     "output_type": "stream",
     "text": [
      "48 -> T\n",
      "36 -> H\n",
      "33 -> E\n",
      "1 ->  \n",
      "41 -> M\n"
     ]
    }
   ],
   "source": [
    "for ex in text_encoded[:5]:\n",
    "    print(f\"{ex} -> {char_array[ex]}\")"
   ]
  },
  {
   "cell_type": "markdown",
   "metadata": {},
   "source": [
    "Make the shifted sequences (each of length 41). Input will be first 40 and label will the shifted 40. So $x$ will be from 0 to 39 while $y$ is 1 to 40. With this, we can just run a **classification problem** since the number of unique classes is fixed. "
   ]
  },
  {
   "cell_type": "code",
   "execution_count": 4,
   "metadata": {},
   "outputs": [],
   "source": [
    "import torch\n",
    "from torch.utils.data import Dataset\n",
    "\n",
    "seq_length = 40\n",
    "chunk_size = seq_length + 1\n",
    "text_chunks = [text_encoded[i:i+chunk_size] for i in range(len(text_encoded) - chunk_size)]"
   ]
  },
  {
   "cell_type": "code",
   "execution_count": 5,
   "metadata": {},
   "outputs": [
    {
     "name": "stderr",
     "output_type": "stream",
     "text": [
      "/tmp/ipykernel_4498/1662308023.py:18: UserWarning: Creating a tensor from a list of numpy.ndarrays is extremely slow. Please consider converting the list to a single numpy.ndarray with numpy.array() before converting to a tensor. (Triggered internally at  /opt/conda/conda-bld/pytorch_1646755903507/work/torch/csrc/utils/tensor_new.cpp:210.)\n",
      "  seq_dataset = TextDataset(torch.Tensor(text_chunks))\n"
     ]
    }
   ],
   "source": [
    "class TextDataset(Dataset):\n",
    "    def __init__(self, text_chunks):\n",
    "        if isinstance(text_chunks, np.ndarray):\n",
    "            text_chunks = torch.Tensor(text_chunks)\n",
    "        self.text_chunks = text_chunks\n",
    "\n",
    "    def __len__(self):\n",
    "        return len(self.text_chunks)\n",
    "\n",
    "    def __getitem__(self, idx):\n",
    "        \"\"\"\n",
    "        Returns input x and label y \n",
    "        \"\"\"\n",
    "        assert idx < len(self)\n",
    "        text_chunk = self.text_chunks[idx]\n",
    "        return text_chunk[:-1].long(), text_chunk[1:].long()\n",
    "\n",
    "seq_dataset = TextDataset(torch.Tensor(text_chunks))"
   ]
  },
  {
   "cell_type": "code",
   "execution_count": 6,
   "metadata": {},
   "outputs": [
    {
     "name": "stdout",
     "output_type": "stream",
     "text": [
      "Input (x):  'THE MYSTERIOUS ISLAND ***\\n\\n\\n\\n\\nTHE MYSTER'\n",
      "Target (y):  'HE MYSTERIOUS ISLAND ***\\n\\n\\n\\n\\nTHE MYSTERI'\n",
      "Input (x):  'HE MYSTERIOUS ISLAND ***\\n\\n\\n\\n\\nTHE MYSTERI'\n",
      "Target (y):  'E MYSTERIOUS ISLAND ***\\n\\n\\n\\n\\nTHE MYSTERIO'\n"
     ]
    }
   ],
   "source": [
    "# take a look at example sequences of the dataset\n",
    "for i, (seq, target) in enumerate(seq_dataset):\n",
    "    print(\"Input (x): \", repr(\"\".join(char_array[seq])))\n",
    "    print(\"Target (y): \", repr(\"\".join(char_array[target])))\n",
    "    if i == 1: break"
   ]
  },
  {
   "cell_type": "code",
   "execution_count": 7,
   "metadata": {},
   "outputs": [],
   "source": [
    "from torch.utils.data import DataLoader\n",
    "batch_size = 64\n",
    "torch.manual_seed(1)\n",
    "seq_dl = DataLoader(seq_dataset, batch_size=batch_size, shuffle=True, drop_last=True)"
   ]
  },
  {
   "cell_type": "markdown",
   "metadata": {},
   "source": [
    "### Building a Character-level RNN"
   ]
  },
  {
   "cell_type": "code",
   "execution_count": 17,
   "metadata": {},
   "outputs": [],
   "source": [
    "# progress bar and plotting\n",
    "from tqdm.notebook import tqdm\n",
    "\n",
    "import os\n",
    "\n",
    "%matplotlib inline\n",
    "import matplotlib.pyplot as plt"
   ]
  },
  {
   "cell_type": "code",
   "execution_count": 9,
   "metadata": {},
   "outputs": [
    {
     "name": "stdout",
     "output_type": "stream",
     "text": [
      "Using device cuda\n"
     ]
    }
   ],
   "source": [
    "use_GPU = True\n",
    "\n",
    "if use_GPU:\n",
    "    device = torch.device(\"cuda\") if torch.cuda.is_available() else torch.device(\"cpu\")\n",
    "else:\n",
    "    device = torch.device(\"cpu\")\n",
    "\n",
    "print(f\"Using device {device}\")"
   ]
  },
  {
   "cell_type": "code",
   "execution_count": 10,
   "metadata": {},
   "outputs": [],
   "source": [
    "from turtle import forward\n",
    "import torch.nn as nn \n",
    "\n",
    "class RNN(nn.Module):\n",
    "    def __init__(self, vocab_size, embed_dim, rnn_hidden_size, rnn_layer=nn.LSTM):\n",
    "        super().__init__()\n",
    "        self.rnn_hidden_size = rnn_hidden_size\n",
    "        self.embedding = nn.Embedding(vocab_size, embed_dim)\n",
    "        self.rnn = rnn_layer(embed_dim, rnn_hidden_size, batch_first=True)\n",
    "        self.fc = nn.Linear(rnn_hidden_size, vocab_size) # multiple-to-multiple RNN\n",
    "        self.softmax = nn.LogSoftmax(dim=1) # don't know why book did not have this line\n",
    "\n",
    "    def forward(self, x, hidden, cell):\n",
    "        \"\"\"\n",
    "        Forward function call for the LSTM.\n",
    "        LMST takes in as input previous cell and hidden state and sequence value x(t).\n",
    "        \"\"\"\n",
    "        out = self.embedding(x).unsqueeze(1)\n",
    "        out, (hidden, cell) = self.rnn(out, (hidden, cell))\n",
    "        out = self.fc(out).reshape(out.size(0), -1)\n",
    "        return out, hidden, cell\n",
    "\n",
    "    def init_hidden(self, batch_size):\n",
    "        hidden = torch.zeros(1, batch_size, self.rnn_hidden_size)\n",
    "        cell = torch.zeros(1, batch_size, self.rnn_hidden_size)\n",
    "        return hidden, cell"
   ]
  },
  {
   "cell_type": "code",
   "execution_count": 11,
   "metadata": {},
   "outputs": [
    {
     "name": "stdout",
     "output_type": "stream",
     "text": [
      "RNN(\n",
      "  (embedding): Embedding(85, 256)\n",
      "  (rnn): LSTM(256, 512, batch_first=True)\n",
      "  (fc): Linear(in_features=512, out_features=85, bias=True)\n",
      "  (softmax): LogSoftmax(dim=1)\n",
      ")\n"
     ]
    }
   ],
   "source": [
    "vocab_size = len(char_array)\n",
    "embed_dim = 256\n",
    "rnn_hidden_size = 512\n",
    "torch.manual_seed(1)\n",
    "model = RNN(vocab_size, embed_dim, rnn_hidden_size)\n",
    "print(model)\n",
    "\n",
    "model_path = \"rnn_state_proj_2.pt\"\n",
    "if os.path.exists(model_path):\n",
    "    model.load_state_dict(torch.load(model_path))"
   ]
  },
  {
   "cell_type": "code",
   "execution_count": 12,
   "metadata": {},
   "outputs": [],
   "source": [
    "optimizer = torch.optim.Adam(model.parameters(), lr=0.001)\n",
    "loss_module = nn.CrossEntropyLoss()"
   ]
  },
  {
   "cell_type": "code",
   "execution_count": 13,
   "metadata": {},
   "outputs": [
    {
     "data": {
      "application/vnd.jupyter.widget-view+json": {
       "model_id": "b463f7963d4944fe8bde93d246a1cee8",
       "version_major": 2,
       "version_minor": 0
      },
      "text/plain": [
       "  0%|          | 0/10000 [00:00<?, ?it/s]"
      ]
     },
     "metadata": {},
     "output_type": "display_data"
    }
   ],
   "source": [
    "# train the model\n",
    "if not os.path.exists(model_path):\n",
    "    num_epochs = 10000\n",
    "    torch.manual_seed(1)\n",
    "\n",
    "    model.to(device)\n",
    "    model.train()\n",
    "\n",
    "    losses = []\n",
    "    pbar = tqdm(range(num_epochs))\n",
    "    for e in pbar:\n",
    "        hidden, cell = model.init_hidden(batch_size)\n",
    "        hidden, cell = hidden.to(device), cell.to(device)\n",
    "        seq_batch, target_batch = next(iter(seq_dl))\n",
    "        seq_batch, target_batch = seq_batch.to(device), target_batch.to(device)\n",
    "        optimizer.zero_grad()\n",
    "        loss = 0\n",
    "        for c in range(seq_length):\n",
    "            pred, hidden, cell = model(seq_batch[:, c], hidden, cell)\n",
    "            loss += loss_module(pred, target_batch[:, c])\n",
    "        loss.backward()\n",
    "        optimizer.step()\n",
    "        loss_val = loss.item()/seq_length\n",
    "        losses.append(loss_val)\n",
    "        if e % 500 == 0:\n",
    "            pbar.set_description(f\"Epoch {e}/{num_epochs}: Loss = {loss_val:.4f}\")"
   ]
  },
  {
   "cell_type": "code",
   "execution_count": 16,
   "metadata": {},
   "outputs": [],
   "source": [
    "# model and loss saving\n",
    "if not os.path.exists(model_path):\n",
    "    torch.save(model.state_dict(), model_path)\n",
    "\n",
    "loss_path = \"train_losses.npy\"\n",
    "if not os.path.exists(loss_path):\n",
    "    np.save(loss_path, losses)"
   ]
  },
  {
   "cell_type": "code",
   "execution_count": 23,
   "metadata": {},
   "outputs": [
    {
     "data": {
      "image/png": "[encoded data removed]",
      "text/plain": [
       "<Figure size 720x432 with 1 Axes>"
      ]
     },
     "metadata": {
      "needs_background": "light"
     },
     "output_type": "display_data"
    }
   ],
   "source": [
    "if os.path.exists(loss_path):\n",
    "    losses = np.load(loss_path)\n",
    "idx = np.arange(losses.shape[0])\n",
    "plt.figure(figsize=(10,6))\n",
    "plt.plot(idx, losses)\n",
    "plt.title(\"CE Loss over Epochs\")\n",
    "plt.ylabel(\"CE Loss\")\n",
    "plt.xlabel(\"Epochs\")\n",
    "plt.grid()\n",
    "plt.show()"
   ]
  },
  {
   "cell_type": "markdown",
   "metadata": {},
   "source": [
    "### Evaluation - Generating New Text Passages\n",
    "\n",
    "To draw random samples from a categorical distibution, PyTorch provides a class `torch.distributions.categorical.Categorical`."
   ]
  },
  {
   "cell_type": "code",
   "execution_count": 26,
   "metadata": {},
   "outputs": [
    {
     "name": "stdout",
     "output_type": "stream",
     "text": [
      "Probabilities: tensor([0.3333, 0.3333, 0.3333])\n",
      "[0 0 0 0 1 0 1 2 1 1]\n"
     ]
    }
   ],
   "source": [
    "from torch.distributions.categorical import Categorical \n",
    "\n",
    "torch.manual_seed(1)\n",
    "logits = torch.Tensor([1.0, 1.0, 1.0])\n",
    "print(f\"Probabilities: {nn.functional.softmax(logits, dim=0)}\")\n",
    "m = Categorical(logits=logits)\n",
    "samples = m.sample((10,))\n",
    "print(samples.numpy())"
   ]
  },
  {
   "cell_type": "markdown",
   "metadata": {},
   "source": [
    "The logits from above have the same value; therefore, the distribution should be about distributed 1/3 for each class (as the number of samples tend to infinity). If any of the categories from above had a higher value, then the `Categorical` would sample it more often."
   ]
  },
  {
   "cell_type": "code",
   "execution_count": 41,
   "metadata": {},
   "outputs": [],
   "source": [
    "def sample(model, starting_str, len_generated_text=500, scale_factor=1.0):\n",
    "    \"\"\"\n",
    "    Perform autoregression and generate a string of length len_generated_text.\n",
    "    Scale factor is inversely proportional to the entropy of Categorical sampling. \n",
    "    \"\"\"\n",
    "    encoded_input = torch.Tensor([char2int[ch] for ch in starting_str])\n",
    "    encoded_input = torch.reshape(encoded_input, (1, -1))\n",
    "    generated_str = starting_str\n",
    "\n",
    "    model.cpu()\n",
    "    with torch.no_grad():\n",
    "        model.eval()\n",
    "        hidden, cell = model.init_hidden(1)\n",
    "        # pass to RNN one integer at a time to update hidden states\n",
    "        for c in range(len(starting_str) - 1):\n",
    "            _, hidden, cell = model(encoded_input[:,c].view(1).to(torch.int64), hidden, cell)\n",
    "\n",
    "        # last character passed to RNN to generate a new character\n",
    "        last_char = encoded_input[:, -1]\n",
    "        # perform autoregression (process of consuming generated sequence as input to generate new ones)\n",
    "        for i in range(len_generated_text):\n",
    "            logits, hidden, cell = model(last_char.view(1).to(torch.int64), hidden, cell)\n",
    "            logits = torch.squeeze(logits, 0)\n",
    "            scaled_logits = logits * scale_factor\n",
    "            m = Categorical(logits=scaled_logits)\n",
    "            last_char = m.sample()\n",
    "            generated_str += str(char_array[last_char])\n",
    "\n",
    "    return generated_str"
   ]
  },
  {
   "cell_type": "code",
   "execution_count": 51,
   "metadata": {},
   "outputs": [
    {
     "name": "stdout",
     "output_type": "stream",
     "text": [
      "The lonely spirit just foreseing scenty views, but was made himself distant bluck? It is in the raging trouteers,\n",
      "with its entirely condecture; but twenty miles from this side in the\n",
      "fam, the jouthern and obliged to load the slopes of the\n",
      "coast.\n",
      "\n",
      "“Whano, Pencroft,” observed Spilett.\n",
      "\n",
      "“Fiber, or quadrupeds,” answered the engineer, therefore, the advantaging of the shores of the Mercy and Gideon Spilett.\n",
      "\n",
      "However, the settlers’ candle, motionless, such very easily as if how passed.\n",
      "Genexating from the convicts, st\n"
     ]
    }
   ],
   "source": [
    "# generate some new text\n",
    "torch.manual_seed(1)\n",
    "print(sample(model, starting_str=\"The lonely spirit\"))"
   ]
  }
 ],
 "metadata": {
  "kernelspec": {
   "display_name": "Python 3.8.13 ('hands_on_ml')",
   "language": "python",
   "name": "python3"
  },
  "language_info": {
   "codemirror_mode": {
    "name": "ipython",
    "version": 3
   },
   "file_extension": ".py",
   "mimetype": "text/x-python",
   "name": "python",
   "nbconvert_exporter": "python",
   "pygments_lexer": "ipython3",
   "version": "3.8.13"
  },
  "orig_nbformat": 4,
  "vscode": {
   "interpreter": {
    "hash": "7c15b0dd616b9d947ea13c87fa269e05e8054758c0f7c261fec597f1be7e65f2"
   }
  }
 },
 "nbformat": 4,
 "nbformat_minor": 2
}
