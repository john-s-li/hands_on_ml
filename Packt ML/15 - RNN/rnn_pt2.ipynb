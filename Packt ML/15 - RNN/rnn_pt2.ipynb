{
 "cells": [
  {
   "cell_type": "markdown",
   "metadata": {},
   "source": [
    "# RNN Project 2: Character-level Language Modeling"
   ]
  },
  {
   "cell_type": "code",
   "execution_count": 4,
   "metadata": {},
   "outputs": [
    {
     "name": "stdout",
     "output_type": "stream",
     "text": [
      "Total length of text: 1130711\n",
      "Unique characters: 85\n"
     ]
    }
   ],
   "source": [
    "import numpy as np\n",
    "\n",
    "with open(\"1268-0.txt\", \"r\", encoding=\"utf8\") as fp:\n",
    "    text = fp.read()\n",
    "    start_idx = text.find(\"THE MYSTERIOUS ISLAND\")\n",
    "    end_idx = text.find(\"End of the Project Gutenberg\")\n",
    "    # remove prologue and end jibber jabber\n",
    "    text = text[start_idx:end_idx]\n",
    "    # create a set of unique characters\n",
    "    char_set = set(text)\n",
    "    print(f\"Total length of text: {len(text)}\")\n",
    "    print(f\"Unique characters: {len(char_set)}\")"
   ]
  },
  {
   "cell_type": "markdown",
   "metadata": {},
   "source": [
    "Most NN and RNN libraries cannot deal with string inputs, so we will convert text into a numeric format."
   ]
  },
  {
   "cell_type": "code",
   "execution_count": 6,
   "metadata": {},
   "outputs": [
    {
     "name": "stdout",
     "output_type": "stream",
     "text": [
      "Text encoded shape: (1130711,)\n",
      "THE MYSTERIOUS  == Encoding ==> [48 36 33  1 41 53 47 48 33 46 37 43 49 47  1]\n"
     ]
    }
   ],
   "source": [
    "chars_sorted = sorted(char_set)\n",
    "char2int = {ch:i for i,ch in enumerate(chars_sorted)} # char to int mapping\n",
    "\n",
    "# reverse mapping from int to char (more efficient)\n",
    "text_encoded = np.array([char2int[ch] for ch in text], dtype=np.int32)\n",
    "\n",
    "print(f\"Text encoded shape: {text_encoded.shape}\")\n",
    "print(f\"{text[:15]} == Encoding ==> {text_encoded[:15]}\")"
   ]
  }
 ],
 "metadata": {
  "kernelspec": {
   "display_name": "Python 3.8.13 ('hands_on_ml')",
   "language": "python",
   "name": "python3"
  },
  "language_info": {
   "codemirror_mode": {
    "name": "ipython",
    "version": 3
   },
   "file_extension": ".py",
   "mimetype": "text/x-python",
   "name": "python",
   "nbconvert_exporter": "python",
   "pygments_lexer": "ipython3",
   "version": "3.8.13"
  },
  "orig_nbformat": 4,
  "vscode": {
   "interpreter": {
    "hash": "7c15b0dd616b9d947ea13c87fa269e05e8054758c0f7c261fec597f1be7e65f2"
   }
  }
 },
 "nbformat": 4,
 "nbformat_minor": 2
}
