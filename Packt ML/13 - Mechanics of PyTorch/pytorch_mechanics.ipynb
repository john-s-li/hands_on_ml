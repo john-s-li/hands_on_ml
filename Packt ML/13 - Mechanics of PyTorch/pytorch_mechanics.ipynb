{
 "cells": [
  {
   "cell_type": "code",
   "execution_count": 53,
   "metadata": {},
   "outputs": [
    {
     "name": "stdout",
     "output_type": "stream",
     "text": [
      "Using device mps\n"
     ]
    }
   ],
   "source": [
    "import torch\n",
    "import torch.nn as nn\n",
    "import numpy as np\n",
    "\n",
    "device = torch.device(\"mps\") if torch.backends.mps.is_available() else torch.device(\"cpu\")\n",
    "print(f\"Using device {device}\")"
   ]
  },
  {
   "cell_type": "markdown",
   "metadata": {},
   "source": [
    "### Project 1: Predicting Fuel Efficiency of a Car"
   ]
  },
  {
   "cell_type": "code",
   "execution_count": 6,
   "metadata": {},
   "outputs": [],
   "source": [
    "import pandas as pd \n",
    "\n",
    "url = \"https://archive.ics.uci.edu/ml/machine-learning-databases/auto-mpg/auto-mpg.data\"\n",
    "\n",
    "column_names = [\"MPG\", \"Cylinders\", \"Displacement\", \"Horsepower\",\n",
    "                \"Weight\", \"Acceleration\", \"Model Year\", \"Origin\"]\n",
    "\n",
    "mpg_df = pd.read_csv(url, names=column_names, na_values=\"?\",\n",
    "                    comment=\"\\t\", sep=\" \", skipinitialspace=True)"
   ]
  },
  {
   "cell_type": "code",
   "execution_count": 7,
   "metadata": {},
   "outputs": [
    {
     "name": "stdout",
     "output_type": "stream",
     "text": [
      "<class 'pandas.core.frame.DataFrame'>\n",
      "RangeIndex: 398 entries, 0 to 397\n",
      "Data columns (total 8 columns):\n",
      " #   Column        Non-Null Count  Dtype  \n",
      "---  ------        --------------  -----  \n",
      " 0   MPG           398 non-null    float64\n",
      " 1   Cylinders     398 non-null    int64  \n",
      " 2   Displacement  398 non-null    float64\n",
      " 3   Horsepower    392 non-null    float64\n",
      " 4   Weight        398 non-null    float64\n",
      " 5   Acceleration  398 non-null    float64\n",
      " 6   Model Year    398 non-null    int64  \n",
      " 7   Origin        398 non-null    int64  \n",
      "dtypes: float64(5), int64(3)\n",
      "memory usage: 25.0 KB\n"
     ]
    }
   ],
   "source": [
    "mpg_df.info()"
   ]
  },
  {
   "cell_type": "code",
   "execution_count": 10,
   "metadata": {},
   "outputs": [
    {
     "name": "stdout",
     "output_type": "stream",
     "text": [
      "<class 'pandas.core.frame.DataFrame'>\n",
      "RangeIndex: 392 entries, 0 to 391\n",
      "Data columns (total 8 columns):\n",
      " #   Column        Non-Null Count  Dtype  \n",
      "---  ------        --------------  -----  \n",
      " 0   MPG           392 non-null    float64\n",
      " 1   Cylinders     392 non-null    int64  \n",
      " 2   Displacement  392 non-null    float64\n",
      " 3   Horsepower    392 non-null    float64\n",
      " 4   Weight        392 non-null    float64\n",
      " 5   Acceleration  392 non-null    float64\n",
      " 6   Model Year    392 non-null    int64  \n",
      " 7   Origin        392 non-null    int64  \n",
      "dtypes: float64(5), int64(3)\n",
      "memory usage: 24.6 KB\n"
     ]
    }
   ],
   "source": [
    "# since the NA rows aren't too much in quantity, drop them\n",
    "mpg_df.dropna(inplace=True)\n",
    "mpg_df.reset_index(drop=True, inplace=True)\n",
    "mpg_df.info()"
   ]
  },
  {
   "cell_type": "markdown",
   "metadata": {},
   "source": [
    "### Data Normalization"
   ]
  },
  {
   "cell_type": "code",
   "execution_count": 12,
   "metadata": {},
   "outputs": [
    {
     "name": "stdout",
     "output_type": "stream",
     "text": [
      "              count         mean         std     min     25%     50%     75%  \\\n",
      "MPG           313.0    23.599361    7.956255     9.0    17.0    23.0    30.0   \n",
      "Cylinders     313.0     5.482428    1.700446     3.0     4.0     4.0     8.0   \n",
      "Displacement  313.0   195.517572  103.766567    70.0   105.0   151.0   302.0   \n",
      "Horsepower    313.0   104.594249   38.283669    46.0    76.0    95.0   129.0   \n",
      "Weight        313.0  2986.124601  841.133957  1613.0  2234.0  2855.0  3645.0   \n",
      "Acceleration  313.0    15.544089    2.817864     8.0    13.5    15.5    17.3   \n",
      "Model Year    313.0    76.207668    3.630136    70.0    73.0    76.0    79.0   \n",
      "Origin        313.0     1.555911    0.807163     1.0     1.0     1.0     2.0   \n",
      "\n",
      "                 max  \n",
      "MPG             46.6  \n",
      "Cylinders        8.0  \n",
      "Displacement   455.0  \n",
      "Horsepower     230.0  \n",
      "Weight        5140.0  \n",
      "Acceleration    24.8  \n",
      "Model Year      82.0  \n",
      "Origin           3.0  \n"
     ]
    }
   ],
   "source": [
    "import sklearn\n",
    "from sklearn.model_selection import train_test_split\n",
    "\n",
    "# train test split\n",
    "df_train, df_test = train_test_split(mpg_df, train_size=0.8, random_state=42)\n",
    "train_stats = df_train.describe().transpose()\n",
    "print(train_stats)"
   ]
  },
  {
   "cell_type": "code",
   "execution_count": 13,
   "metadata": {},
   "outputs": [
    {
     "data": {
      "text/html": [
       "<div>\n",
       "<style scoped>\n",
       "    .dataframe tbody tr th:only-of-type {\n",
       "        vertical-align: middle;\n",
       "    }\n",
       "\n",
       "    .dataframe tbody tr th {\n",
       "        vertical-align: top;\n",
       "    }\n",
       "\n",
       "    .dataframe thead th {\n",
       "        text-align: right;\n",
       "    }\n",
       "</style>\n",
       "<table border=\"1\" class=\"dataframe\">\n",
       "  <thead>\n",
       "    <tr style=\"text-align: right;\">\n",
       "      <th></th>\n",
       "      <th>MPG</th>\n",
       "      <th>Cylinders</th>\n",
       "      <th>Displacement</th>\n",
       "      <th>Horsepower</th>\n",
       "      <th>Weight</th>\n",
       "      <th>Acceleration</th>\n",
       "      <th>Model Year</th>\n",
       "      <th>Origin</th>\n",
       "    </tr>\n",
       "  </thead>\n",
       "  <tbody>\n",
       "    <tr>\n",
       "      <th>71</th>\n",
       "      <td>15.0</td>\n",
       "      <td>1.480536</td>\n",
       "      <td>1.045447</td>\n",
       "      <td>1.186034</td>\n",
       "      <td>1.076969</td>\n",
       "      <td>-1.080283</td>\n",
       "      <td>72</td>\n",
       "      <td>1</td>\n",
       "    </tr>\n",
       "    <tr>\n",
       "      <th>106</th>\n",
       "      <td>18.0</td>\n",
       "      <td>0.304374</td>\n",
       "      <td>0.351582</td>\n",
       "      <td>-0.120005</td>\n",
       "      <td>-0.234356</td>\n",
       "      <td>-0.193086</td>\n",
       "      <td>73</td>\n",
       "      <td>1</td>\n",
       "    </tr>\n",
       "    <tr>\n",
       "      <th>270</th>\n",
       "      <td>23.8</td>\n",
       "      <td>-0.871788</td>\n",
       "      <td>-0.429017</td>\n",
       "      <td>-0.511817</td>\n",
       "      <td>-0.155890</td>\n",
       "      <td>0.729599</td>\n",
       "      <td>78</td>\n",
       "      <td>1</td>\n",
       "    </tr>\n",
       "    <tr>\n",
       "      <th>348</th>\n",
       "      <td>29.9</td>\n",
       "      <td>-0.871788</td>\n",
       "      <td>-0.939778</td>\n",
       "      <td>-1.034233</td>\n",
       "      <td>-0.720604</td>\n",
       "      <td>1.829723</td>\n",
       "      <td>81</td>\n",
       "      <td>1</td>\n",
       "    </tr>\n",
       "    <tr>\n",
       "      <th>102</th>\n",
       "      <td>11.0</td>\n",
       "      <td>1.480536</td>\n",
       "      <td>1.970600</td>\n",
       "      <td>1.186034</td>\n",
       "      <td>2.390672</td>\n",
       "      <td>-0.547965</td>\n",
       "      <td>73</td>\n",
       "      <td>1</td>\n",
       "    </tr>\n",
       "  </tbody>\n",
       "</table>\n",
       "</div>"
      ],
      "text/plain": [
       "      MPG  Cylinders  Displacement  Horsepower    Weight  Acceleration  \\\n",
       "71   15.0   1.480536      1.045447    1.186034  1.076969     -1.080283   \n",
       "106  18.0   0.304374      0.351582   -0.120005 -0.234356     -0.193086   \n",
       "270  23.8  -0.871788     -0.429017   -0.511817 -0.155890      0.729599   \n",
       "348  29.9  -0.871788     -0.939778   -1.034233 -0.720604      1.829723   \n",
       "102  11.0   1.480536      1.970600    1.186034  2.390672     -0.547965   \n",
       "\n",
       "     Model Year  Origin  \n",
       "71           72       1  \n",
       "106          73       1  \n",
       "270          78       1  \n",
       "348          81       1  \n",
       "102          73       1  "
      ]
     },
     "execution_count": 13,
     "metadata": {},
     "output_type": "execute_result"
    }
   ],
   "source": [
    "numerical_columns = [\"Cylinders\", \"Displacement\", \"Horsepower\",\n",
    "                     \"Weight\", \"Acceleration\"]\n",
    "df_train_norm, df_test_norm = df_train.copy(), df_test.copy()\n",
    "\n",
    "# do some normalization on the numerical/continuous values\n",
    "for col_name in numerical_columns:\n",
    "    mean = train_stats.loc[col_name, \"mean\"]\n",
    "    std = train_stats.loc[col_name, \"std\"]\n",
    "    df_train_norm.loc[:, col_name] = (df_train_norm.loc[:, col_name] - mean) / std\n",
    "    df_test_norm.loc[:, col_name] = (df_test_norm.loc[:, col_name] - mean) / std\n",
    "\n",
    "df_train_norm.tail()"
   ]
  },
  {
   "cell_type": "markdown",
   "metadata": {},
   "source": [
    "### Bucketing"
   ]
  },
  {
   "cell_type": "code",
   "execution_count": 15,
   "metadata": {},
   "outputs": [],
   "source": [
    "boundaries = torch.tensor([73, 76, 79])\n",
    "v = torch.tensor(df_train_norm[\"Model Year\"].values)\n",
    "df_train_norm[\"Model Year Bucketed\"] = torch.bucketize(v, boundaries, right=True)\n",
    "\n",
    "v = torch.tensor(df_test_norm[\"Model Year\"].values)\n",
    "df_test_norm[\"Model Year Bucketed\"] = torch.bucketize(v, boundaries, right=True)\n",
    "\n",
    "numerical_columns.append(\"Model Year Bucketed\")"
   ]
  },
  {
   "cell_type": "markdown",
   "metadata": {},
   "source": [
    "### Processing Categorical (Non-ordered) Data"
   ]
  },
  {
   "cell_type": "code",
   "execution_count": 18,
   "metadata": {},
   "outputs": [],
   "source": [
    "# can use either an embedding or one-hot\n",
    "# for large number of categorical features, an embedding is more efficient\n",
    "from torch.nn.functional import one_hot\n",
    "total_origin = len(set(df_train_norm[\"Origin\"]))\n",
    "origin_encoded = one_hot(torch.from_numpy(df_train_norm[\"Origin\"].values) % total_origin)\n",
    "x_train_numeric = torch.tensor(df_train_norm[numerical_columns].values)\n",
    "x_train = torch.cat([x_train_numeric, origin_encoded], dim=1).float()\n",
    "\n",
    "origin_encoded = one_hot(torch.from_numpy(df_test_norm[\"Origin\"].values) % total_origin)\n",
    "x_test_numeric = torch.tensor(df_test_norm[numerical_columns].values)\n",
    "x_test = torch.cat([x_test_numeric, origin_encoded], dim=1).float()"
   ]
  },
  {
   "cell_type": "code",
   "execution_count": 19,
   "metadata": {},
   "outputs": [],
   "source": [
    "# set the labels\n",
    "y_train = torch.tensor(df_train_norm[\"MPG\"].values).float()\n",
    "y_test = torch.tensor(df_test_norm[\"MPG\"].values).float()"
   ]
  },
  {
   "cell_type": "markdown",
   "metadata": {},
   "source": [
    "### Training a DNN Regression Model"
   ]
  },
  {
   "cell_type": "code",
   "execution_count": 21,
   "metadata": {},
   "outputs": [],
   "source": [
    "from torch.utils.data import TensorDataset, DataLoader\n",
    "\n",
    "train_ds = TensorDataset(x_train, y_train)\n",
    "batch_size = 8\n",
    "torch.manual_seed(42)\n",
    "train_loader = DataLoader(train_ds, batch_size, shuffle=True)"
   ]
  },
  {
   "cell_type": "code",
   "execution_count": 28,
   "metadata": {},
   "outputs": [],
   "source": [
    "class RegressionModel(nn.Module):\n",
    "    def __init__(self, input_size: int, output_size: int, hidden_sizes=[8, 4]):\n",
    "        super().__init__()\n",
    "        layer_sizes = [input_size] + hidden_sizes\n",
    "        layers = []\n",
    "        for i in range(1, len(layer_sizes)):\n",
    "            layers.append(nn.Linear(layer_sizes[i-1], layer_sizes[i]))\n",
    "            layers.append(nn.ReLU())\n",
    "        layers.append(nn.Linear(layer_sizes[-1], output_size))\n",
    "        \n",
    "        self.layers = nn.Sequential(*layers)\n",
    "    \n",
    "    def forward(self, x):\n",
    "        return self.layers(x)"
   ]
  },
  {
   "cell_type": "code",
   "execution_count": 55,
   "metadata": {},
   "outputs": [
    {
     "name": "stdout",
     "output_type": "stream",
     "text": [
      "RegressionModel(\n",
      "  (layers): Sequential(\n",
      "    (0): Linear(in_features=9, out_features=8, bias=True)\n",
      "    (1): ReLU()\n",
      "    (2): Linear(in_features=8, out_features=4, bias=True)\n",
      "    (3): ReLU()\n",
      "    (4): Linear(in_features=4, out_features=1, bias=True)\n",
      "  )\n",
      ")\n"
     ]
    }
   ],
   "source": [
    "reg_model = RegressionModel(x_train.shape[1], 1)\n",
    "print(reg_model)"
   ]
  },
  {
   "cell_type": "code",
   "execution_count": 56,
   "metadata": {},
   "outputs": [],
   "source": [
    "loss_fn = nn.MSELoss()\n",
    "optimizer = torch.optim.SGD(reg_model.parameters(), lr=0.001)"
   ]
  },
  {
   "cell_type": "code",
   "execution_count": 57,
   "metadata": {},
   "outputs": [
    {
     "name": "stdout",
     "output_type": "stream",
     "text": [
      "Epoch 0/200: MSE Loss = 43.7729\n",
      "Epoch 20/200: MSE Loss = 3.3474\n",
      "Epoch 40/200: MSE Loss = 2.2920\n",
      "Epoch 60/200: MSE Loss = 1.9230\n",
      "Epoch 80/200: MSE Loss = 1.7296\n",
      "Epoch 100/200: MSE Loss = 1.6010\n",
      "Epoch 120/200: MSE Loss = 1.5115\n",
      "Epoch 140/200: MSE Loss = 1.4530\n",
      "Epoch 160/200: MSE Loss = 1.4023\n",
      "Epoch 180/200: MSE Loss = 1.3656\n"
     ]
    }
   ],
   "source": [
    "# train the model\n",
    "torch.manual_seed(1)\n",
    "num_epochs = 200\n",
    "log_epochs = 20\n",
    "train_loss = 0\n",
    "\n",
    "reg_model.to(device)\n",
    "reg_model.train()\n",
    "losses = 0.0\n",
    "loss_history = []\n",
    "num_examples = 0\n",
    "for e in range(num_epochs):\n",
    "    for features, labels in train_loader:\n",
    "        features, labels = features.to(device), labels.to(device)\n",
    "        predictions = reg_model(features)[:,0]\n",
    "        loss = loss_fn(predictions, labels)\n",
    "        # logging \n",
    "        num_examples += features.shape[0]\n",
    "        losses += loss.item()\n",
    "        \n",
    "        optimizer.zero_grad()\n",
    "        loss.backward()\n",
    "        optimizer.step()\n",
    "\n",
    "    loss_history.append(losses/num_examples)\n",
    "\n",
    "    if e % log_epochs == 0:\n",
    "        print(f\"Epoch {e}/{num_epochs}: MSE Loss = {(losses/num_examples):.4f}\")"
   ]
  },
  {
   "cell_type": "markdown",
   "metadata": {},
   "source": [
    "### Evaluation\n"
   ]
  },
  {
   "cell_type": "code",
   "execution_count": 63,
   "metadata": {},
   "outputs": [
    {
     "data": {
      "image/png": "[encoded data removed]",
      "text/plain": [
       "<Figure size 576x432 with 1 Axes>"
      ]
     },
     "metadata": {
      "needs_background": "light"
     },
     "output_type": "display_data"
    }
   ],
   "source": [
    "%matplotlib inline\n",
    "import matplotlib.pyplot as plt\n",
    "\n",
    "idx = [i for i in range(len(loss_history))]\n",
    "plt.figure(figsize=(8,6))\n",
    "plt.plot(idx, loss_history)\n",
    "plt.title(\"MSE Loss vs Epochs\")\n",
    "plt.xlabel(\"Epoch\")\n",
    "plt.ylabel(\"MSE\")\n",
    "plt.grid()\n",
    "plt.show()"
   ]
  },
  {
   "cell_type": "code",
   "execution_count": 72,
   "metadata": {},
   "outputs": [
    {
     "name": "stdout",
     "output_type": "stream",
     "text": [
      "MSE Test Loss = 7.5569\n",
      "MAE Test Loss = 2.0705\n"
     ]
    }
   ],
   "source": [
    "# check MSE and MAE on test set\n",
    "reg_model.eval()\n",
    "reg_model.cpu()\n",
    "with torch.no_grad():\n",
    "    preds = reg_model(x_test.float()).squeeze()\n",
    "    loss = loss_fn(preds, y_test)\n",
    "    print(f\"MSE Test Loss = {loss.item():.4f}\")\n",
    "    print(f\"MAE Test Loss = {nn.L1Loss()(preds, y_test).item():.4f}\")"
   ]
  }
 ],
 "metadata": {
  "kernelspec": {
   "display_name": "Python 3.8.10 ('machine_learning')",
   "language": "python",
   "name": "python3"
  },
  "language_info": {
   "codemirror_mode": {
    "name": "ipython",
    "version": 3
   },
   "file_extension": ".py",
   "mimetype": "text/x-python",
   "name": "python",
   "nbconvert_exporter": "python",
   "pygments_lexer": "ipython3",
   "version": "3.8.10"
  },
  "orig_nbformat": 4,
  "vscode": {
   "interpreter": {
    "hash": "9ec1ccfe0d98e93cd3ff8953cac9364163407fba13736c55f90cf8afe7e68d85"
   }
  }
 },
 "nbformat": 4,
 "nbformat_minor": 2
}
